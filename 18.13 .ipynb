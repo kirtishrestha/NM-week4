{
 "cells": [
  {
   "cell_type": "markdown",
   "id": "0b0b62e4",
   "metadata": {},
   "source": [
    "### Bisection method"
   ]
  },
  {
   "cell_type": "code",
   "execution_count": 3,
   "id": "a9dd5e3a",
   "metadata": {},
   "outputs": [
    {
     "name": "stdout",
     "output_type": "stream",
     "text": [
      "x_approximation:  4.99951171875\n"
     ]
    }
   ],
   "source": [
    "# Python code to implement the iteration calculation using the bisection method principles\n",
    "# until the value of x is closer to 5.28 for y = 0.23\n",
    "\n",
    "def cubic_polynomial(y):\n",
    "    return 3 - 12.0048 * (y - 0.3333) + 59.9790 * (y - 0.3333)**2 - 362.7223 * (y - 0.3333)**3\n",
    "\n",
    "def find_x_for_y(target_y, a, b, tolerance):\n",
    "    while abs(a - b) > tolerance:\n",
    "        x_mid = (a + b) / 2\n",
    "        y_mid = cubic_polynomial(x_mid)\n",
    "        \n",
    "        # Since we are looking for a specific y value, compare the y value at x_mid\n",
    "        if y_mid < target_y:\n",
    "            a = x_mid  # Adjust a if the y value at x_mid is less than the target\n",
    "        else:\n",
    "            b = x_mid  # Adjust b otherwise\n",
    "        \n",
    "    return (a + b) / 2\n",
    "\n",
    "# Given target y value and initial bounds\n",
    "target_y = 0.23\n",
    "initial_a = 4\n",
    "initial_b = 5\n",
    "tolerance = 0.001  # Tolerance for the approximation\n",
    "\n",
    "# Find x that corresponds to y = 0.23\n",
    "x_approximation = find_x_for_y(target_y, initial_a, initial_b, tolerance)\n",
    "\n",
    "print(\"x_approximation: \", x_approximation)"
   ]
  },
  {
   "cell_type": "markdown",
   "id": "3cdf5407",
   "metadata": {},
   "source": [
    "The approximation of x that corresponds to y=0.23, using the bisection method principles with the given cubic polynomial, is approximately \n",
    "4.9995. This result was obtained after \n",
    "10 iterations, with a specified tolerance of \n",
    "0.001."
   ]
  },
  {
   "cell_type": "code",
   "execution_count": null,
   "id": "fa12341e",
   "metadata": {},
   "outputs": [],
   "source": []
  },
  {
   "cell_type": "code",
   "execution_count": null,
   "id": "984bd173",
   "metadata": {},
   "outputs": [],
   "source": []
  }
 ],
 "metadata": {
  "kernelspec": {
   "display_name": "Python 3 (ipykernel)",
   "language": "python",
   "name": "python3"
  },
  "language_info": {
   "codemirror_mode": {
    "name": "ipython",
    "version": 3
   },
   "file_extension": ".py",
   "mimetype": "text/x-python",
   "name": "python",
   "nbconvert_exporter": "python",
   "pygments_lexer": "ipython3",
   "version": "3.11.5"
  }
 },
 "nbformat": 4,
 "nbformat_minor": 5
}
