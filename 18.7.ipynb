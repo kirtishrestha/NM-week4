{
 "cells": [
  {
   "cell_type": "markdown",
   "id": "3d19ee6b",
   "metadata": {},
   "source": [
    "### Estimate Erorr"
   ]
  },
  {
   "cell_type": "code",
   "execution_count": 6,
   "id": "7c1ab395",
   "metadata": {},
   "outputs": [
    {
     "name": "stdout",
     "output_type": "stream",
     "text": [
      "fourth_divided_difference:  0.45238095238095344 \n",
      "error_estimate_3rd_order: 0.05211428571428585\n"
     ]
    }
   ],
   "source": [
    "import numpy as np\n",
    "\n",
    "# defining given data points and their function values\n",
    "x_points = np.array([2, 2.5, 3.2, 4, 4.5])\n",
    "f_x = np.array([8, 14, 15, 8, 2])\n",
    "\n",
    "# Initializing matrix for divided differences\n",
    "n = len(x_points)\n",
    "dd_matrix = np.zeros((n, n))\n",
    "dd_matrix[:, 0] = f_x  # First column is f(x)\n",
    "\n",
    "# Computing divided differences\n",
    "for j in range(1, n):\n",
    "    for i in range(n - j):\n",
    "        dd_matrix[i, j] = (dd_matrix[i + 1, j - 1] - dd_matrix[i, j - 1]) / (x_points[i + j] - x_points[i])\n",
    "\n",
    "# The fourth divided difference f[2, 2.5, 3.2, 4, 4.5] is at position (0, 4)\n",
    "fourth_divided_difference = dd_matrix[0, 4]\n",
    "\n",
    "# Estimated error for 3rd order polynomial at x = 2.8\n",
    "x_target = 2.8\n",
    "error_estimate_3rd_order = fourth_divided_difference * (x_target - x_points[0]) * (x_target - x_points[1]) * (x_target - x_points[2]) * (x_target - x_points[3])\n",
    "\n",
    "print(\"fourth_divided_difference: \",fourth_divided_difference, \"\\nerror_estimate_3rd_order:\",error_estimate_3rd_order)"
   ]
  },
  {
   "cell_type": "code",
   "execution_count": null,
   "id": "b2b8d155",
   "metadata": {},
   "outputs": [],
   "source": []
  }
 ],
 "metadata": {
  "kernelspec": {
   "display_name": "Python 3 (ipykernel)",
   "language": "python",
   "name": "python3"
  },
  "language_info": {
   "codemirror_mode": {
    "name": "ipython",
    "version": 3
   },
   "file_extension": ".py",
   "mimetype": "text/x-python",
   "name": "python",
   "nbconvert_exporter": "python",
   "pygments_lexer": "ipython3",
   "version": "3.11.5"
  }
 },
 "nbformat": 4,
 "nbformat_minor": 5
}
