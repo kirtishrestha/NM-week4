{
 "cells": [
  {
   "cell_type": "markdown",
   "id": "e89b54d2",
   "metadata": {},
   "source": [
    "### b) Calculation of coefficients"
   ]
  },
  {
   "cell_type": "code",
   "execution_count": 2,
   "id": "6cc9ee59",
   "metadata": {},
   "outputs": [
    {
     "data": {
      "text/plain": [
       "array([ 0.02352933, -0.241176  ,  0.85882267, -0.141176  ])"
      ]
     },
     "execution_count": 2,
     "metadata": {},
     "output_type": "execute_result"
    }
   ],
   "source": [
    "from numpy.linalg import solve\n",
    "import numpy as np\n",
    "\n",
    "# Coefficients matrix for the system of equations\n",
    "A = np.array([\n",
    "    [1**3, 1**2, 1, 1],\n",
    "    [2**3, 2**2, 2, 1],\n",
    "    [3**3, 3**2, 3, 1],\n",
    "    [4**3, 4**2, 4, 1]\n",
    "])\n",
    "\n",
    "# f(x) values (right-hand side of the equations)\n",
    "b = np.array([0.5, 0.8, 0.9, 0.941176])\n",
    "\n",
    "# Solve the system of linear equations for a, b, c, d\n",
    "coefficients = solve(A, b)\n",
    "coefficients"
   ]
  },
  {
   "cell_type": "markdown",
   "id": "751dde22",
   "metadata": {},
   "source": [
    "### b) Solving the cubic polynomial equation for f(x)=0.85 "
   ]
  },
  {
   "cell_type": "code",
   "execution_count": 3,
   "id": "8ef7cd00",
   "metadata": {},
   "outputs": [
    {
     "data": {
      "text/plain": [
       "array([2.34546548])"
      ]
     },
     "execution_count": 3,
     "metadata": {},
     "output_type": "execute_result"
    }
   ],
   "source": [
    "# Adjust the polynomial to find the root for f(x) = 0.85\n",
    "# Adjust the constant term in the coefficients array for the equation P(x) - 0.85 = 0\n",
    "coefficients[3] -= 0.85\n",
    "\n",
    "# Find the roots of the cubic polynomial P(x) - 0.85 = 0\n",
    "roots = np.roots(coefficients)\n",
    "\n",
    "# Filter real roots and consider only the ones within the range of the given data points\n",
    "x_value_for_fx_085 = roots[np.isreal(roots)].real\n",
    "x_value_for_fx_085"
   ]
  },
  {
   "cell_type": "markdown",
   "id": "40846ba8",
   "metadata": {},
   "source": [
    "### c) Calculation of coefficients"
   ]
  },
  {
   "cell_type": "code",
   "execution_count": 5,
   "id": "12a17754",
   "metadata": {},
   "outputs": [
    {
     "data": {
      "text/plain": [
       "array([ 16.66666667, -18.33333333,   6.        ])"
      ]
     },
     "execution_count": 5,
     "metadata": {},
     "output_type": "execute_result"
    }
   ],
   "source": [
    "# Coefficients matrix for the system of equations (for quadratic interpolation)\n",
    "A_quad = np.array([\n",
    "    [0.5**2, 0.5, 1],\n",
    "    [0.8**2, 0.8, 1],\n",
    "    [0.9**2, 0.9, 1]\n",
    "])\n",
    "\n",
    "# x values (right-hand side of the equations)\n",
    "b_quad = np.array([1, 2, 3])\n",
    "\n",
    "# Solve the system of linear equations for a, b, c\n",
    "coeffs_quad = solve(A_quad, b_quad)\n",
    "coeffs_quad"
   ]
  },
  {
   "cell_type": "markdown",
   "id": "af9e6b9f",
   "metadata": {},
   "source": [
    "### c) Solving the quadratic polynomial equation for f(x)=0.85 "
   ]
  },
  {
   "cell_type": "code",
   "execution_count": 8,
   "id": "dcad90f4",
   "metadata": {},
   "outputs": [
    {
     "data": {
      "text/plain": [
       "2.458333333333334"
      ]
     },
     "execution_count": 8,
     "metadata": {},
     "output_type": "execute_result"
    }
   ],
   "source": [
    "# Substitute f(x) = 0.85 into the quadratic polynomial to find x\n",
    "f_x = 0.85\n",
    "x_value_for_fx_085_quad = coeffs_quad[0] * f_x**2 + coeffs_quad[1] * f_x + coeffs_quad[2]\n",
    "x_value_for_fx_085_quad"
   ]
  },
  {
   "cell_type": "markdown",
   "id": "80baf978",
   "metadata": {},
   "source": [
    "### d) Calculation of coefficients"
   ]
  },
  {
   "cell_type": "code",
   "execution_count": 7,
   "id": "be999fd0",
   "metadata": {},
   "outputs": [
    {
     "data": {
      "text/plain": [
       "array([ 191.59272681, -404.83733231,  282.46724775,  -62.97338165])"
      ]
     },
     "execution_count": 7,
     "metadata": {},
     "output_type": "execute_result"
    }
   ],
   "source": [
    "# Coefficients matrix for the system of equations (for cubic interpolation)\n",
    "A_cubic = np.array([\n",
    "    [0.5**3, 0.5**2, 0.5, 1],\n",
    "    [0.8**3, 0.8**2, 0.8, 1],\n",
    "    [0.9**3, 0.9**2, 0.9, 1],\n",
    "    [0.941176**3, 0.941176**2, 0.941176, 1]\n",
    "])\n",
    "\n",
    "# x values (right-hand side of the equations)\n",
    "b_cubic = np.array([1, 2, 3, 4])\n",
    "\n",
    "# Solve the system of linear equations for a, b, c, d\n",
    "coeffs_cubic = solve(A_cubic, b_cubic)\n",
    "coeffs_cubic"
   ]
  },
  {
   "cell_type": "markdown",
   "id": "e77bd4b9",
   "metadata": {},
   "source": [
    "### d) Solving the quadratic polynomial equation for f(x)=0.85 "
   ]
  },
  {
   "cell_type": "code",
   "execution_count": 12,
   "id": "a74a2e75",
   "metadata": {},
   "outputs": [
    {
     "data": {
      "text/plain": [
       "2.2906896957162743"
      ]
     },
     "execution_count": 12,
     "metadata": {},
     "output_type": "execute_result"
    }
   ],
   "source": [
    "# Recalculating after code execution state reset\n",
    "x_value = 191.59272681 * (0.85)**3 - 404.83733231 * (0.85)**2 + 282.46724775 * (0.85) - 62.97338165\n",
    "x_value"
   ]
  },
  {
   "cell_type": "markdown",
   "id": "2293e262",
   "metadata": {},
   "source": [
    "### d) Bisection Method"
   ]
  },
  {
   "cell_type": "code",
   "execution_count": 16,
   "id": "2235a485",
   "metadata": {},
   "outputs": [
    {
     "data": {
      "text/plain": [
       "(2.3804779052734375, 16)"
      ]
     },
     "execution_count": 16,
     "metadata": {},
     "output_type": "execute_result"
    }
   ],
   "source": [
    "def f(x):\n",
    "    return x**2 / (1 + x**2) - 0.85\n",
    "\n",
    "# initializing variables for the bisection method with iteration tracking\n",
    "a = 2\n",
    "b = 3\n",
    "iteration_count = 0\n",
    "b = 3\n",
    "tolerance = 1e-6\n",
    "max_iterations = 100\n",
    "\n",
    "# Bisection method with iteration tracking\n",
    "for iteration_count in range(1, max_iterations + 1):\n",
    "    m = (a + b) / 2  # Midpoint\n",
    "    if abs(f(m)) < tolerance:\n",
    "        break  # Solution found\n",
    "    if f(a) * f(m) < 0:\n",
    "        b = m\n",
    "    else:\n",
    "        a = m\n",
    "\n",
    "# Solution and number of iterations\n",
    "m, iteration_count"
   ]
  },
  {
   "cell_type": "code",
   "execution_count": null,
   "id": "4d945db2",
   "metadata": {},
   "outputs": [],
   "source": []
  }
 ],
 "metadata": {
  "kernelspec": {
   "display_name": "Python 3 (ipykernel)",
   "language": "python",
   "name": "python3"
  },
  "language_info": {
   "codemirror_mode": {
    "name": "ipython",
    "version": 3
   },
   "file_extension": ".py",
   "mimetype": "text/x-python",
   "name": "python",
   "nbconvert_exporter": "python",
   "pygments_lexer": "ipython3",
   "version": "3.11.5"
  }
 },
 "nbformat": 4,
 "nbformat_minor": 5
}
